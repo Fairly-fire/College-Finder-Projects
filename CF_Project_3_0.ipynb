{
  "nbformat": 4,
  "nbformat_minor": 0,
  "metadata": {
    "colab": {
      "name": "CF_Project_3.0.ipynb",
      "provenance": [],
      "authorship_tag": "ABX9TyPGaAaUR942QMDdgsgpcGAZ",
      "include_colab_link": true
    },
    "kernelspec": {
      "name": "python3",
      "display_name": "Python 3"
    },
    "language_info": {
      "name": "python"
    }
  },
  "cells": [
    {
      "cell_type": "markdown",
      "metadata": {
        "id": "view-in-github",
        "colab_type": "text"
      },
      "source": [
        "<a href=\"https://colab.research.google.com/github/Fairly-fire/College-Finder-Projects/blob/main/CF_Project_3_0.ipynb\" target=\"_parent\"><img src=\"https://colab.research.google.com/assets/colab-badge.svg\" alt=\"Open In Colab\"/></a>"
      ]
    },
    {
      "cell_type": "code",
      "metadata": {
        "colab": {
          "base_uri": "https://localhost:8080/"
        },
        "id": "uRd9qMm6ouUM",
        "outputId": "c3198e6e-4b64-4897-fd2b-bc6bc68bc53b"
      },
      "source": [
        "#Write a program to take input from the user and display tables till 12\n",
        "\n",
        "num = int((input(\"Enter a number : \")))\n",
        "print(\"-\"* 20)\n",
        "print(\"The table is as follows : \")\n",
        "for i in range(1,13):\n",
        "  print(num, \"x\", i, \"=\", num*i)"
      ],
      "execution_count": 3,
      "outputs": [
        {
          "output_type": "stream",
          "name": "stdout",
          "text": [
            "Enter a number : 23\n",
            "--------------------\n",
            "The table is as follows : \n",
            "23 x 1 = 23\n",
            "23 x 2 = 46\n",
            "23 x 3 = 69\n",
            "23 x 4 = 92\n",
            "23 x 5 = 115\n",
            "23 x 6 = 138\n",
            "23 x 7 = 161\n",
            "23 x 8 = 184\n",
            "23 x 9 = 207\n",
            "23 x 10 = 230\n",
            "23 x 11 = 253\n",
            "23 x 12 = 276\n"
          ]
        }
      ]
    },
    {
      "cell_type": "code",
      "metadata": {
        "id": "wrKKn6azp2IN"
      },
      "source": [
        ""
      ],
      "execution_count": null,
      "outputs": []
    }
  ]
}