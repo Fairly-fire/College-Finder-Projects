{
  "nbformat": 4,
  "nbformat_minor": 0,
  "metadata": {
    "colab": {
      "name": "CF_Project 4.0.ipynb",
      "provenance": [],
      "authorship_tag": "ABX9TyPR3FocrCLA7LPsPkZmeakt",
      "include_colab_link": true
    },
    "kernelspec": {
      "name": "python3",
      "display_name": "Python 3"
    },
    "language_info": {
      "name": "python"
    }
  },
  "cells": [
    {
      "cell_type": "markdown",
      "metadata": {
        "id": "view-in-github",
        "colab_type": "text"
      },
      "source": [
        "<a href=\"https://colab.research.google.com/github/Fairly-fire/College-Finder-Projects/blob/main/CF_Project_4_0.ipynb\" target=\"_parent\"><img src=\"https://colab.research.google.com/assets/colab-badge.svg\" alt=\"Open In Colab\"/></a>"
      ]
    },
    {
      "cell_type": "code",
      "metadata": {
        "id": "1qzi8gQBTyzI"
      },
      "source": [
        "#Defining calculating functions\n",
        "def add(a,b):\n",
        "    addn = a+ b\n",
        "    print(f\"The sum of {a} and {b} is {addn}\") #formatted strings\n",
        "\n",
        "def subtract(a,b):\n",
        "    subn = a-b\n",
        "    print(f\"The result of subtracting {b} from {a} is {subn}\")\n",
        "\n",
        "def multiply(a,b):\n",
        "    prod = a* b\n",
        "    print(f\"The multiplication of {a} and {b} is {prod}\")\n",
        "\n",
        "def division(a,b):\n",
        "    quo = a/b\n",
        "    print(f\"The quotient of {a} divided by {b} is {quo}\")"
      ],
      "execution_count": 2,
      "outputs": []
    },
    {
      "cell_type": "code",
      "metadata": {
        "colab": {
          "base_uri": "https://localhost:8080/"
        },
        "id": "thCpfQcIUWVd",
        "outputId": "56316b86-8916-4e5e-95a1-0dad5efe0ad4"
      },
      "source": [
        "# accepting multiple inputs in a single\n",
        "number1,operator,number2 = map(str, input(\"Enter your equation: \")) # 8 / 9\n",
        "number1 = int(number1)\n",
        "number2 = int(number2)"
      ],
      "execution_count": 16,
      "outputs": [
        {
          "name": "stdout",
          "output_type": "stream",
          "text": [
            "Enter your equation: 8/3\n"
          ]
        }
      ]
    },
    {
      "cell_type": "code",
      "metadata": {
        "colab": {
          "base_uri": "https://localhost:8080/"
        },
        "id": "NOFWnWkbUXH9",
        "outputId": "7fe79d50-7552-46f3-9dfe-7c6e14dfb4f7"
      },
      "source": [
        "# shift+alt+down\n",
        "\n",
        "if operator == '+':\n",
        "    add(number1,number2)\n",
        "    \n",
        "elif operator == \"-\":\n",
        "    subtract(number1,number2)\n",
        "    \n",
        "elif operator == \"-\":\n",
        "    multiply(number1,number2)\n",
        "    \n",
        "elif operator == \"/\":\n",
        "    division(number1,number2)\n",
        "    \n",
        "else:\n",
        "    print(\"Invalid Typo Error! Type something like - 8 / 4\")"
      ],
      "execution_count": 17,
      "outputs": [
        {
          "output_type": "stream",
          "name": "stdout",
          "text": [
            "The quotient of 8 divided by 3 is 2.6666666666666665\n"
          ]
        }
      ]
    },
    {
      "cell_type": "code",
      "metadata": {
        "id": "cyKf-lPxVkjB"
      },
      "source": [
        ""
      ],
      "execution_count": null,
      "outputs": []
    }
  ]
}