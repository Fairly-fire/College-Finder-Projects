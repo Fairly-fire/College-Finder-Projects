{
  "nbformat": 4,
  "nbformat_minor": 0,
  "metadata": {
    "colab": {
      "name": "CF_Project 4.0.ipynb",
      "provenance": [],
      "collapsed_sections": [],
      "authorship_tag": "ABX9TyMainJ4jRjg1ZeFrsnn0UoB",
      "include_colab_link": true
    },
    "kernelspec": {
      "name": "python3",
      "display_name": "Python 3"
    },
    "language_info": {
      "name": "python"
    }
  },
  "cells": [
    {
      "cell_type": "markdown",
      "metadata": {
        "id": "view-in-github",
        "colab_type": "text"
      },
      "source": [
        "<a href=\"https://colab.research.google.com/github/Fairly-fire/College-Finder-Projects/blob/main/CF_Project_4_0.ipynb\" target=\"_parent\"><img src=\"https://colab.research.google.com/assets/colab-badge.svg\" alt=\"Open In Colab\"/></a>"
      ]
    },
    {
      "cell_type": "code",
      "metadata": {
        "id": "1qzi8gQBTyzI"
      },
      "source": [
        "#Defining calculating functions\n",
        "def add(a,b):\n",
        "    addn = a+b\n",
        "    print(f\"The sum of {a} and {b} is {addn}\") #formatted strings\n",
        "\n",
        "def subtract(a,b):\n",
        "    subn = a-b\n",
        "    print(f\"The result of subtracting {b} from {a} is {subn}\")\n",
        "\n",
        "def multiply(a,b):\n",
        "    prod = a*b\n",
        "    print(f\"The multiplication of {a} and {b} is {prod}\")\n",
        "\n",
        "def division(a,b):\n",
        "    quo = a/b\n",
        "    print(f\"The quotient of {a} divided by {b} is {quo}\")\n",
        "\n",
        "def modulus(a,b):\n",
        "    rem = a%b\n",
        "    print(f\"The remainder of {a} divided by {b} is {rem}\")"
      ],
      "execution_count": 16,
      "outputs": []
    },
    {
      "cell_type": "code",
      "metadata": {
        "colab": {
          "base_uri": "https://localhost:8080/"
        },
        "id": "thCpfQcIUWVd",
        "outputId": "c6424931-51c5-45da-fb70-1b14eebd4970"
      },
      "source": [
        "# accepting multiple inputs in a single\n",
        "number1,operator,number2 = map(str, input(\"Enter your equation: \").split()) # 8 / 9\n",
        "number1 = int(number1)\n",
        "number2 = int(number2)"
      ],
      "execution_count": 19,
      "outputs": [
        {
          "name": "stdout",
          "output_type": "stream",
          "text": [
            "Enter your equation: 2434 % 3\n"
          ]
        }
      ]
    },
    {
      "cell_type": "code",
      "metadata": {
        "colab": {
          "base_uri": "https://localhost:8080/"
        },
        "id": "NOFWnWkbUXH9",
        "outputId": "dee61144-0e66-4b1e-d99a-ec488a17730d"
      },
      "source": [
        "# shift+alt+down\n",
        "\n",
        "if operator == '+':\n",
        "    add(number1,number2)\n",
        "    \n",
        "elif operator == \"-\":\n",
        "    subtract(number1,number2)\n",
        "    \n",
        "elif operator == \"*\":\n",
        "    multiply(number1,number2)\n",
        "    \n",
        "elif operator == \"/\":\n",
        "    division(number1,number2)\n",
        "\n",
        "elif operator == \"%\":\n",
        "    modulus(number1,number2)\n",
        "    \n",
        "else:\n",
        "    print(\"Invalid Typo Error! Type something like - 8 / 4\")"
      ],
      "execution_count": 20,
      "outputs": [
        {
          "output_type": "stream",
          "name": "stdout",
          "text": [
            "The remainder of 2434 divided by 3 is 1\n"
          ]
        }
      ]
    },
    {
      "cell_type": "code",
      "metadata": {
        "id": "cyKf-lPxVkjB"
      },
      "source": [
        ""
      ],
      "execution_count": null,
      "outputs": []
    }
  ]
}