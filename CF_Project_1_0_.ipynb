{
  "nbformat": 4,
  "nbformat_minor": 0,
  "metadata": {
    "colab": {
      "name": "CF_Project 1.0 .ipynb",
      "provenance": [],
      "collapsed_sections": [],
      "authorship_tag": "ABX9TyPLU8zC3cOy158ysX+2fz2a",
      "include_colab_link": true
    },
    "kernelspec": {
      "name": "python3",
      "display_name": "Python 3"
    },
    "language_info": {
      "name": "python"
    }
  },
  "cells": [
    {
      "cell_type": "markdown",
      "metadata": {
        "id": "view-in-github",
        "colab_type": "text"
      },
      "source": [
        "<a href=\"https://colab.research.google.com/github/Fairly-fire/College-Finder-Projects/blob/main/CF_Project_1_0_.ipynb\" target=\"_parent\"><img src=\"https://colab.research.google.com/assets/colab-badge.svg\" alt=\"Open In Colab\"/></a>"
      ]
    },
    {
      "cell_type": "markdown",
      "metadata": {
        "id": "5dyUhewhvaiy"
      },
      "source": [
        "# Project 1.0 : \n",
        "Take input and display the following :-\n",
        "1. Name of the Student\n",
        "2. Std and division\n",
        "3. Marks of any three subjects"
      ]
    },
    {
      "cell_type": "code",
      "metadata": {
        "colab": {
          "base_uri": "https://localhost:8080/"
        },
        "id": "cGRYqnKyvTzn",
        "outputId": "f530c77e-7b77-440e-cc4f-0870c4982f93"
      },
      "source": [
        "name = str(input(\"Enter the name of the Student : \")) #Name \n",
        "std = int(input(\"Enter the standard of the Student : \")) #Standard\n",
        "div = str(input(\"Enter the division of the Student : \")) #Division\n",
        "sub1 = int(input(\"Enter the marks of Subject 1 : \")) #Marks of Subject 1\n",
        "sub2 = int(input(\"Enter the marks of Subject 2 : \")) #Marks of Subject 2\n",
        "sub3 = int(input(\"Enter the marks of Subject 3 : \")) #Marks of Subject 3"
      ],
      "execution_count": null,
      "outputs": [
        {
          "name": "stdout",
          "output_type": "stream",
          "text": [
            "Enter the name of the Student : Fairly\n",
            "Enter the standard of the Student : 5\n",
            "Enter the division of the Student : A\n",
            "Enter the marks of Subject 1 : 23\n",
            "Enter the marks of Subject 2 : 34\n",
            "Enter the marks of Subject 3 : 43\n"
          ]
        }
      ]
    },
    {
      "cell_type": "code",
      "metadata": {
        "colab": {
          "base_uri": "https://localhost:8080/"
        },
        "id": "IcpeluHF09SN",
        "outputId": "fbbb8bf4-8c11-43ce-fd63-1c3b9cfbc3ad"
      },
      "source": [
        "print(\"The details of the Student are as follows:\")\n",
        "print(\"Name :\", name)\n",
        "print(\"Standard :\", std, \", Division :\", div)\n",
        "print(\"Marks -\", \"Subject 1 :\", sub1, \", Subject 2 :\", sub2, \", Subject 3 :\", sub3)"
      ],
      "execution_count": null,
      "outputs": [
        {
          "output_type": "stream",
          "name": "stdout",
          "text": [
            "The details of the Student are as follows:\n",
            "Name : Fairly\n",
            "Standard : 5 , Division : A\n",
            "Marks - Subject 1 : 23 , Subject 2 : 34 , Subject 3 : 43\n"
          ]
        }
      ]
    }
  ]
}