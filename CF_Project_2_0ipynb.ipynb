{
  "nbformat": 4,
  "nbformat_minor": 0,
  "metadata": {
    "colab": {
      "name": "CF_Project 2.0ipynb",
      "provenance": [],
      "collapsed_sections": [],
      "authorship_tag": "ABX9TyPSP4AXm1Eo/ISieTKkezZB",
      "include_colab_link": true
    },
    "kernelspec": {
      "name": "python3",
      "display_name": "Python 3"
    },
    "language_info": {
      "name": "python"
    }
  },
  "cells": [
    {
      "cell_type": "markdown",
      "metadata": {
        "id": "view-in-github",
        "colab_type": "text"
      },
      "source": [
        "<a href=\"https://colab.research.google.com/github/Fairly-fire/College-Finder-Projects/blob/main/CF_Project_2_0ipynb.ipynb\" target=\"_parent\"><img src=\"https://colab.research.google.com/assets/colab-badge.svg\" alt=\"Open In Colab\"/></a>"
      ]
    },
    {
      "cell_type": "code",
      "metadata": {
        "colab": {
          "base_uri": "https://localhost:8080/"
        },
        "id": "qySHFH6_C2n0",
        "outputId": "f150f776-76cb-457b-e2a2-48d3edaa21e9"
      },
      "source": [
        "import random\n",
        "\n",
        "while True:\n",
        "  user_action = input(\"Enter a choice (rock, paper, scissors): \")\n",
        "  possible_actions = [\"rock\", \"paper\", \"scissors\"]\n",
        "  computer_action = random.choice(possible_actions)\n",
        "  print(\"\\nYou chose {user}, computer chose {computer}.\\n\".format(user=user_action,computer= computer_action))\n",
        "\n",
        "  if user_action == computer_action:\n",
        "    print(\"Both players selected {user}. It's a tie!\".format(user=user_action))\n",
        "  elif user_action == \"rock\":\n",
        "    if computer_action == \"scissors\":\n",
        "      print(\"Rock smashes scissors! You win!\")\n",
        "    else:\n",
        "      print(\"Paper covers rock! You lose.\")\n",
        "  elif user_action == \"paper\":\n",
        "    if computer_action == \"rock\":\n",
        "      print(\"Paper covers rock! You win!\")\n",
        "    else:\n",
        "      print(\"Scissors cuts paper! You lose.\")\n",
        "  elif user_action == \"scissors\":\n",
        "    if computer_action == \"paper\":\n",
        "      print(\"Scissors cuts paper! You win!\")\n",
        "    else:\n",
        "      print(\"Rock smashes scissors! You lose.\")\n",
        "\n",
        "  play_again = input(\"Play again? (y/n): \")\n",
        "  if play_again.lower() != \"y\":\n",
        "    break"
      ],
      "execution_count": null,
      "outputs": [
        {
          "name": "stdout",
          "output_type": "stream",
          "text": [
            "Enter a choice (rock, paper, scissors): rock\n",
            "\n",
            "You chose rock, computer chose scissors.\n",
            "\n",
            "Rock smashes scissors! You win!\n",
            "Play again? (y/n): y\n",
            "Enter a choice (rock, paper, scissors): paper\n",
            "\n",
            "You chose paper, computer chose paper.\n",
            "\n",
            "Both players selected paper. It's a tie!\n",
            "Play again? (y/n): y\n",
            "Enter a choice (rock, paper, scissors): scissors\n",
            "\n",
            "You chose scissors, computer chose scissors.\n",
            "\n",
            "Both players selected scissors. It's a tie!\n",
            "Play again? (y/n): y\n",
            "Enter a choice (rock, paper, scissors): paper\n",
            "\n",
            "You chose paper, computer chose rock.\n",
            "\n",
            "Paper covers rock! You win!\n",
            "Play again? (y/n): y\n",
            "Enter a choice (rock, paper, scissors): rock\n",
            "\n",
            "You chose rock, computer chose rock.\n",
            "\n",
            "Both players selected rock. It's a tie!\n",
            "Play again? (y/n): y\n",
            "Enter a choice (rock, paper, scissors): scissors\n",
            "\n",
            "You chose scissors, computer chose scissors.\n",
            "\n",
            "Both players selected scissors. It's a tie!\n",
            "Play again? (y/n): y\n",
            "Enter a choice (rock, paper, scissors): scissors\n",
            "\n",
            "You chose scissors, computer chose paper.\n",
            "\n",
            "Scissors cuts paper! You win!\n",
            "Play again? (y/n): n\n"
          ]
        }
      ]
    },
    {
      "cell_type": "code",
      "metadata": {
        "id": "vNMv0ktYEmju"
      },
      "source": [
        ""
      ],
      "execution_count": null,
      "outputs": []
    }
  ]
}